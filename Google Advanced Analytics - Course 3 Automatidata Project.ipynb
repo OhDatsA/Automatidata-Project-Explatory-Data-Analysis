{
 "cells": [
  {
   "cell_type": "markdown",
   "metadata": {
    "id": "DtNBZFHO3M7n"
   },
   "source": [
    "# **Course 3 Automatidata project**\n",
    "**Course 3 - Go Beyond the Numbers: Translate Data into Insights**"
   ]
  },
  {
   "cell_type": "markdown",
   "metadata": {
    "id": "g-E8SNtmRUkN"
   },
   "source": [
    "You are the newest data professional in a fictional data analytics firm: Automatidata. The team is still early into the project, having only just completed an initial plan of action and some early Python coding work. \n",
    "\n",
    "Luana Rodriquez, the senior data analyst at Automatidata, is pleased with the work you have already completed and requests your assistance with some EDA and data visualization work for the New York City Taxi and Limousine Commission project (New York City TLC) to get a general understanding of what taxi ridership looks like. The management team is asking for a Python notebook showing data structuring and cleaning, as well as any matplotlib/seaborn visualizations plotted to help understand the data. At the very least, include a box plot of the ride durations and some time series plots, like a breakdown by quarter or month. \n",
    "\n",
    "Additionally, the management team has recently asked all EDA to include Tableau visualizations. For this taxi data, create a Tableau dashboard showing a New York City map of taxi/limo trips by month. Make sure it is easy to understand to someone who isn’t data savvy, and remember that the assistant director at the New York City TLC is a person with visual impairments."
   ]
  },
  {
   "cell_type": "markdown",
   "metadata": {
    "id": "rgSbVJvomcVa"
   },
   "source": [
    "# Course 3 End-of-course project: Exploratory data analysis\n",
    "\n",
    "In this activity, you will examine data provided and prepare it for analysis.  \n",
    "<br/>   \n",
    "\n",
    "**The purpose** of this project is to conduct exploratory data analysis on a provided data set.\n",
    "  \n",
    "**The goal** is to clean data set and create a visualization.\n",
    "<br/>  \n",
    "*This activity has 4 parts:*\n",
    "\n",
    "**Part 1:** Imports, links, and loading\n",
    "\n",
    "**Part 2:** Data Exploration\n",
    "*   Data cleaning\n",
    "\n",
    "\n",
    "**Part 3:** Building visualizations\n",
    "\n",
    "**Part 4:** Evaluate and share results"
   ]
  },
  {
   "attachments": {},
   "cell_type": "markdown",
   "metadata": {
    "id": "rdR5eWbYx8GE"
   },
   "source": [
    "# **PACE stages** \n",
    "\n",
    "\n",
    "* Plan\n",
    "* Analyse\n",
    "* Construct\n",
    "* Execute"
   ]
  },
  {
   "cell_type": "markdown",
   "metadata": {},
   "source": [
    "## Problem statement\n",
    "\n",
    "The main task of this project is to conduct an exploratory data analysis (EDA) on the New York City Taxi and Limousine Commission (TLC) dataset. This involves structuring and cleaning the data, and creating visualizations using Python (seaborn) to understand the patterns and trends in taxi ridership.\n",
    "\n",
    "Specifically, the EDA should include a box plot of ride durations and time series plots, such as a breakdown by quarter or month.\n",
    "\n",
    "In addition to the EDA, you are also required to create a Tableau dashboard that visualizes taxi/limo trips by month on an NYC map. This dashboard should be easy to understand for non-data savvy individuals and accessible for individuals with visual impairments."
   ]
  },
  {
   "cell_type": "markdown",
   "metadata": {
    "id": "SKur6gTPRcvy"
   },
   "source": [
    "### Task 1. Imports, links, and loading"
   ]
  },
  {
   "cell_type": "code",
   "execution_count": 1,
   "metadata": {
    "id": "EO8vKZI8x8GF"
   },
   "outputs": [],
   "source": [
    "import numpy as np\n",
    "import pandas as pd\n",
    "import seaborn as sns\n",
    "import seaborn.objects as so\n",
    "import re"
   ]
  },
  {
   "cell_type": "code",
   "execution_count": 2,
   "metadata": {},
   "outputs": [],
   "source": [
    "# sns.set()"
   ]
  },
  {
   "cell_type": "code",
   "execution_count": 3,
   "metadata": {
    "id": "w7XSDxoqyF9D"
   },
   "outputs": [],
   "source": [
    "# Import data\n",
    "taxi_trips = pd.read_csv('2017_Yellow_Taxi_Trip_Data.csv')"
   ]
  },
  {
   "cell_type": "markdown",
   "metadata": {
    "id": "3mipEiyZx8GI"
   },
   "source": [
    "## PACE: Analyze \n",
    "\n",
    "Consider the questions in your PACE Strategy Document to reflect on the Analyze stage."
   ]
  },
  {
   "cell_type": "markdown",
   "metadata": {
    "id": "n09krlKWRw_2"
   },
   "source": [
    "### Task 2a. Data exploration and cleaning\n",
    "\n",
    "Decide which columns are applicable\n",
    "\n",
    "Given our scenario, which data columns are most applicable? \n",
    "Which data columns can I eliminate, knowing they won’t solve our problem scenario? \n",
    "\n",
    "Consider functions that help you understand and structure the data. "
   ]
  },
  {
   "cell_type": "code",
   "execution_count": 4,
   "metadata": {
    "id": "cBOUo5p-tbib"
   },
   "outputs": [
    {
     "data": {
      "text/html": [
       "<div>\n",
       "<style scoped>\n",
       "    .dataframe tbody tr th:only-of-type {\n",
       "        vertical-align: middle;\n",
       "    }\n",
       "\n",
       "    .dataframe tbody tr th {\n",
       "        vertical-align: top;\n",
       "    }\n",
       "\n",
       "    .dataframe thead th {\n",
       "        text-align: right;\n",
       "    }\n",
       "</style>\n",
       "<table border=\"1\" class=\"dataframe\">\n",
       "  <thead>\n",
       "    <tr style=\"text-align: right;\">\n",
       "      <th></th>\n",
       "      <th>Unnamed: 0</th>\n",
       "      <th>VendorID</th>\n",
       "      <th>tpep_pickup_datetime</th>\n",
       "      <th>tpep_dropoff_datetime</th>\n",
       "      <th>passenger_count</th>\n",
       "      <th>trip_distance</th>\n",
       "      <th>RatecodeID</th>\n",
       "      <th>store_and_fwd_flag</th>\n",
       "      <th>PULocationID</th>\n",
       "      <th>DOLocationID</th>\n",
       "      <th>payment_type</th>\n",
       "      <th>fare_amount</th>\n",
       "      <th>extra</th>\n",
       "      <th>mta_tax</th>\n",
       "      <th>tip_amount</th>\n",
       "      <th>tolls_amount</th>\n",
       "      <th>improvement_surcharge</th>\n",
       "      <th>total_amount</th>\n",
       "    </tr>\n",
       "  </thead>\n",
       "  <tbody>\n",
       "    <tr>\n",
       "      <th>0</th>\n",
       "      <td>24870114</td>\n",
       "      <td>2</td>\n",
       "      <td>03/25/2017 8:55:43 AM</td>\n",
       "      <td>03/25/2017 9:09:47 AM</td>\n",
       "      <td>6</td>\n",
       "      <td>3.34</td>\n",
       "      <td>1</td>\n",
       "      <td>N</td>\n",
       "      <td>100</td>\n",
       "      <td>231</td>\n",
       "      <td>1</td>\n",
       "      <td>13.0</td>\n",
       "      <td>0.0</td>\n",
       "      <td>0.5</td>\n",
       "      <td>2.76</td>\n",
       "      <td>0.0</td>\n",
       "      <td>0.3</td>\n",
       "      <td>16.56</td>\n",
       "    </tr>\n",
       "    <tr>\n",
       "      <th>1</th>\n",
       "      <td>35634249</td>\n",
       "      <td>1</td>\n",
       "      <td>04/11/2017 2:53:28 PM</td>\n",
       "      <td>04/11/2017 3:19:58 PM</td>\n",
       "      <td>1</td>\n",
       "      <td>1.80</td>\n",
       "      <td>1</td>\n",
       "      <td>N</td>\n",
       "      <td>186</td>\n",
       "      <td>43</td>\n",
       "      <td>1</td>\n",
       "      <td>16.0</td>\n",
       "      <td>0.0</td>\n",
       "      <td>0.5</td>\n",
       "      <td>4.00</td>\n",
       "      <td>0.0</td>\n",
       "      <td>0.3</td>\n",
       "      <td>20.80</td>\n",
       "    </tr>\n",
       "    <tr>\n",
       "      <th>2</th>\n",
       "      <td>106203690</td>\n",
       "      <td>1</td>\n",
       "      <td>12/15/2017 7:26:56 AM</td>\n",
       "      <td>12/15/2017 7:34:08 AM</td>\n",
       "      <td>1</td>\n",
       "      <td>1.00</td>\n",
       "      <td>1</td>\n",
       "      <td>N</td>\n",
       "      <td>262</td>\n",
       "      <td>236</td>\n",
       "      <td>1</td>\n",
       "      <td>6.5</td>\n",
       "      <td>0.0</td>\n",
       "      <td>0.5</td>\n",
       "      <td>1.45</td>\n",
       "      <td>0.0</td>\n",
       "      <td>0.3</td>\n",
       "      <td>8.75</td>\n",
       "    </tr>\n",
       "    <tr>\n",
       "      <th>3</th>\n",
       "      <td>38942136</td>\n",
       "      <td>2</td>\n",
       "      <td>05/07/2017 1:17:59 PM</td>\n",
       "      <td>05/07/2017 1:48:14 PM</td>\n",
       "      <td>1</td>\n",
       "      <td>3.70</td>\n",
       "      <td>1</td>\n",
       "      <td>N</td>\n",
       "      <td>188</td>\n",
       "      <td>97</td>\n",
       "      <td>1</td>\n",
       "      <td>20.5</td>\n",
       "      <td>0.0</td>\n",
       "      <td>0.5</td>\n",
       "      <td>6.39</td>\n",
       "      <td>0.0</td>\n",
       "      <td>0.3</td>\n",
       "      <td>27.69</td>\n",
       "    </tr>\n",
       "    <tr>\n",
       "      <th>4</th>\n",
       "      <td>30841670</td>\n",
       "      <td>2</td>\n",
       "      <td>04/15/2017 11:32:20 PM</td>\n",
       "      <td>04/15/2017 11:49:03 PM</td>\n",
       "      <td>1</td>\n",
       "      <td>4.37</td>\n",
       "      <td>1</td>\n",
       "      <td>N</td>\n",
       "      <td>4</td>\n",
       "      <td>112</td>\n",
       "      <td>2</td>\n",
       "      <td>16.5</td>\n",
       "      <td>0.5</td>\n",
       "      <td>0.5</td>\n",
       "      <td>0.00</td>\n",
       "      <td>0.0</td>\n",
       "      <td>0.3</td>\n",
       "      <td>17.80</td>\n",
       "    </tr>\n",
       "  </tbody>\n",
       "</table>\n",
       "</div>"
      ],
      "text/plain": [
       "   Unnamed: 0  VendorID    tpep_pickup_datetime   tpep_dropoff_datetime  \\\n",
       "0    24870114         2   03/25/2017 8:55:43 AM   03/25/2017 9:09:47 AM   \n",
       "1    35634249         1   04/11/2017 2:53:28 PM   04/11/2017 3:19:58 PM   \n",
       "2   106203690         1   12/15/2017 7:26:56 AM   12/15/2017 7:34:08 AM   \n",
       "3    38942136         2   05/07/2017 1:17:59 PM   05/07/2017 1:48:14 PM   \n",
       "4    30841670         2  04/15/2017 11:32:20 PM  04/15/2017 11:49:03 PM   \n",
       "\n",
       "   passenger_count  trip_distance  RatecodeID store_and_fwd_flag  \\\n",
       "0                6           3.34           1                  N   \n",
       "1                1           1.80           1                  N   \n",
       "2                1           1.00           1                  N   \n",
       "3                1           3.70           1                  N   \n",
       "4                1           4.37           1                  N   \n",
       "\n",
       "   PULocationID  DOLocationID  payment_type  fare_amount  extra  mta_tax  \\\n",
       "0           100           231             1         13.0    0.0      0.5   \n",
       "1           186            43             1         16.0    0.0      0.5   \n",
       "2           262           236             1          6.5    0.0      0.5   \n",
       "3           188            97             1         20.5    0.0      0.5   \n",
       "4             4           112             2         16.5    0.5      0.5   \n",
       "\n",
       "   tip_amount  tolls_amount  improvement_surcharge  total_amount  \n",
       "0        2.76           0.0                    0.3         16.56  \n",
       "1        4.00           0.0                    0.3         20.80  \n",
       "2        1.45           0.0                    0.3          8.75  \n",
       "3        6.39           0.0                    0.3         27.69  \n",
       "4        0.00           0.0                    0.3         17.80  "
      ]
     },
     "execution_count": 4,
     "metadata": {},
     "output_type": "execute_result"
    }
   ],
   "source": [
    "# Prints the first 5 rows of the dataframe\n",
    "taxi_trips.head()"
   ]
  },
  {
   "cell_type": "code",
   "execution_count": 5,
   "metadata": {
    "id": "GvT82D1qyF9F"
   },
   "outputs": [
    {
     "data": {
      "text/plain": [
       "(22699, 18)"
      ]
     },
     "execution_count": 5,
     "metadata": {},
     "output_type": "execute_result"
    }
   ],
   "source": [
    "# Prints the shape of the dataframe\n",
    "taxi_trips.shape"
   ]
  },
  {
   "cell_type": "code",
   "execution_count": 6,
   "metadata": {},
   "outputs": [
    {
     "data": {
      "text/plain": [
       "Unnamed: 0                 int64\n",
       "VendorID                   int64\n",
       "tpep_pickup_datetime      object\n",
       "tpep_dropoff_datetime     object\n",
       "passenger_count            int64\n",
       "trip_distance            float64\n",
       "RatecodeID                 int64\n",
       "store_and_fwd_flag        object\n",
       "PULocationID               int64\n",
       "DOLocationID               int64\n",
       "payment_type               int64\n",
       "fare_amount              float64\n",
       "extra                    float64\n",
       "mta_tax                  float64\n",
       "tip_amount               float64\n",
       "tolls_amount             float64\n",
       "improvement_surcharge    float64\n",
       "total_amount             float64\n",
       "dtype: object"
      ]
     },
     "execution_count": 6,
     "metadata": {},
     "output_type": "execute_result"
    }
   ],
   "source": [
    "# Prints the data types of the dataframe\n",
    "taxi_trips.dtypes"
   ]
  },
  {
   "cell_type": "code",
   "execution_count": 7,
   "metadata": {},
   "outputs": [],
   "source": [
    "# Method chaining, reads like a recipe. Create two new columns and convert them to datetime objects,\n",
    "# filter the applicable columns, rename columns which aren't clear\n",
    "\n",
    "taxi_trips = (taxi_trips\n",
    " .assign(pick_up = pd.to_datetime(taxi_trips.tpep_pickup_datetime, format='%m/%d/%Y %I:%M:%S %p'))\n",
    " .assign(drop_off = pd.to_datetime(taxi_trips.tpep_dropoff_datetime, format='%m/%d/%Y %I:%M:%S %p'))\n",
    " .filter(['trip_duration','trip_distance','pick_up'\n",
    "          ,'drop_off','fare_amount','extra','tip_amount',\n",
    "          'total_amount','passenger_count','PULocationID'])\n",
    " .rename(columns={'PULocationID': 'pick_up_location'})\n",
    "              )"
   ]
  },
  {
   "cell_type": "code",
   "execution_count": 8,
   "metadata": {
    "id": "Thlb8oiyUPwe"
   },
   "outputs": [
    {
     "data": {
      "text/plain": [
       "trip_distance              float64\n",
       "pick_up             datetime64[ns]\n",
       "drop_off            datetime64[ns]\n",
       "fare_amount                float64\n",
       "extra                      float64\n",
       "tip_amount                 float64\n",
       "total_amount               float64\n",
       "passenger_count              int64\n",
       "pick_up_location             int64\n",
       "dtype: object"
      ]
     },
     "execution_count": 8,
     "metadata": {},
     "output_type": "execute_result"
    }
   ],
   "source": [
    "taxi_trips.dtypes"
   ]
  },
  {
   "cell_type": "code",
   "execution_count": 9,
   "metadata": {
    "id": "xMpkdNQ0UPmW"
   },
   "outputs": [],
   "source": [
    "# taxi_trips.astype(dtype='')"
   ]
  },
  {
   "cell_type": "code",
   "execution_count": 10,
   "metadata": {},
   "outputs": [
    {
     "data": {
      "text/plain": [
       "trip_distance       False\n",
       "pick_up             False\n",
       "drop_off            False\n",
       "fare_amount         False\n",
       "extra               False\n",
       "tip_amount          False\n",
       "total_amount        False\n",
       "passenger_count     False\n",
       "pick_up_location    False\n",
       "dtype: bool"
      ]
     },
     "execution_count": 10,
     "metadata": {},
     "output_type": "execute_result"
    }
   ],
   "source": [
    "# Checking which columns contain null values\n",
    "(taxi_trips\n",
    " .isnull()\n",
    " .any()\n",
    " )"
   ]
  },
  {
   "cell_type": "code",
   "execution_count": 11,
   "metadata": {},
   "outputs": [],
   "source": [
    "# Creating a new variable called trip duration and assigning it to the dataframe\n",
    "taxi_trips = (taxi_trips\n",
    "              .assign(trip_duration = (taxi_trips.drop_off-taxi_trips.pick_up))\n",
    "              )"
   ]
  },
  {
   "cell_type": "code",
   "execution_count": 12,
   "metadata": {},
   "outputs": [
    {
     "data": {
      "text/html": [
       "<div>\n",
       "<style scoped>\n",
       "    .dataframe tbody tr th:only-of-type {\n",
       "        vertical-align: middle;\n",
       "    }\n",
       "\n",
       "    .dataframe tbody tr th {\n",
       "        vertical-align: top;\n",
       "    }\n",
       "\n",
       "    .dataframe thead th {\n",
       "        text-align: right;\n",
       "    }\n",
       "</style>\n",
       "<table border=\"1\" class=\"dataframe\">\n",
       "  <thead>\n",
       "    <tr style=\"text-align: right;\">\n",
       "      <th></th>\n",
       "      <th>trip_distance</th>\n",
       "      <th>pick_up</th>\n",
       "      <th>drop_off</th>\n",
       "      <th>fare_amount</th>\n",
       "      <th>extra</th>\n",
       "      <th>tip_amount</th>\n",
       "      <th>total_amount</th>\n",
       "      <th>passenger_count</th>\n",
       "      <th>pick_up_location</th>\n",
       "      <th>trip_duration</th>\n",
       "    </tr>\n",
       "  </thead>\n",
       "  <tbody>\n",
       "    <tr>\n",
       "      <th>0</th>\n",
       "      <td>3.34</td>\n",
       "      <td>2017-03-25 08:55:43</td>\n",
       "      <td>2017-03-25 09:09:47</td>\n",
       "      <td>13.0</td>\n",
       "      <td>0.0</td>\n",
       "      <td>2.76</td>\n",
       "      <td>16.56</td>\n",
       "      <td>6</td>\n",
       "      <td>100</td>\n",
       "      <td>0 days 00:14:04</td>\n",
       "    </tr>\n",
       "    <tr>\n",
       "      <th>1</th>\n",
       "      <td>1.80</td>\n",
       "      <td>2017-04-11 14:53:28</td>\n",
       "      <td>2017-04-11 15:19:58</td>\n",
       "      <td>16.0</td>\n",
       "      <td>0.0</td>\n",
       "      <td>4.00</td>\n",
       "      <td>20.80</td>\n",
       "      <td>1</td>\n",
       "      <td>186</td>\n",
       "      <td>0 days 00:26:30</td>\n",
       "    </tr>\n",
       "    <tr>\n",
       "      <th>2</th>\n",
       "      <td>1.00</td>\n",
       "      <td>2017-12-15 07:26:56</td>\n",
       "      <td>2017-12-15 07:34:08</td>\n",
       "      <td>6.5</td>\n",
       "      <td>0.0</td>\n",
       "      <td>1.45</td>\n",
       "      <td>8.75</td>\n",
       "      <td>1</td>\n",
       "      <td>262</td>\n",
       "      <td>0 days 00:07:12</td>\n",
       "    </tr>\n",
       "    <tr>\n",
       "      <th>3</th>\n",
       "      <td>3.70</td>\n",
       "      <td>2017-05-07 13:17:59</td>\n",
       "      <td>2017-05-07 13:48:14</td>\n",
       "      <td>20.5</td>\n",
       "      <td>0.0</td>\n",
       "      <td>6.39</td>\n",
       "      <td>27.69</td>\n",
       "      <td>1</td>\n",
       "      <td>188</td>\n",
       "      <td>0 days 00:30:15</td>\n",
       "    </tr>\n",
       "    <tr>\n",
       "      <th>4</th>\n",
       "      <td>4.37</td>\n",
       "      <td>2017-04-15 23:32:20</td>\n",
       "      <td>2017-04-15 23:49:03</td>\n",
       "      <td>16.5</td>\n",
       "      <td>0.5</td>\n",
       "      <td>0.00</td>\n",
       "      <td>17.80</td>\n",
       "      <td>1</td>\n",
       "      <td>4</td>\n",
       "      <td>0 days 00:16:43</td>\n",
       "    </tr>\n",
       "  </tbody>\n",
       "</table>\n",
       "</div>"
      ],
      "text/plain": [
       "   trip_distance             pick_up            drop_off  fare_amount  extra  \\\n",
       "0           3.34 2017-03-25 08:55:43 2017-03-25 09:09:47         13.0    0.0   \n",
       "1           1.80 2017-04-11 14:53:28 2017-04-11 15:19:58         16.0    0.0   \n",
       "2           1.00 2017-12-15 07:26:56 2017-12-15 07:34:08          6.5    0.0   \n",
       "3           3.70 2017-05-07 13:17:59 2017-05-07 13:48:14         20.5    0.0   \n",
       "4           4.37 2017-04-15 23:32:20 2017-04-15 23:49:03         16.5    0.5   \n",
       "\n",
       "   tip_amount  total_amount  passenger_count  pick_up_location   trip_duration  \n",
       "0        2.76         16.56                6               100 0 days 00:14:04  \n",
       "1        4.00         20.80                1               186 0 days 00:26:30  \n",
       "2        1.45          8.75                1               262 0 days 00:07:12  \n",
       "3        6.39         27.69                1               188 0 days 00:30:15  \n",
       "4        0.00         17.80                1                 4 0 days 00:16:43  "
      ]
     },
     "execution_count": 12,
     "metadata": {},
     "output_type": "execute_result"
    }
   ],
   "source": [
    "# Inspecting our new dataframe\n",
    "taxi_trips.head()"
   ]
  },
  {
   "cell_type": "markdown",
   "metadata": {
    "id": "Wa-IoAHLUWi8"
   },
   "source": [
    "Perform a check for outliers on relevant columns such as trip distance and trip duration. Remember, one of the best ways to look for outliers is a box plot visualization. \n",
    "\n",
    "**Note:** Remember to convert your date columns to datetime in order to derive total trip duration.  "
   ]
  },
  {
   "cell_type": "code",
   "execution_count": 13,
   "metadata": {},
   "outputs": [],
   "source": [
    "from datetime import datetime as dt"
   ]
  },
  {
   "cell_type": "code",
   "execution_count": 14,
   "metadata": {},
   "outputs": [],
   "source": [
    "# Assigning a new column to the dataframe which returns trip duration as a numeric for analysis\n",
    "# and then convert to minutes.\n",
    "\n",
    "taxi_trips = (taxi_trips\n",
    "              .assign(trip_minutes = (taxi_trips.trip_duration.dt.total_seconds()/60).round(2))\n",
    "              )\n",
    "\n",
    "# taxi_trips['trip_duration_minutes'] = taxi_trips['trip_duration'].dt.total_seconds() / 60"
   ]
  },
  {
   "cell_type": "code",
   "execution_count": 15,
   "metadata": {},
   "outputs": [
    {
     "data": {
      "text/html": [
       "<div>\n",
       "<style scoped>\n",
       "    .dataframe tbody tr th:only-of-type {\n",
       "        vertical-align: middle;\n",
       "    }\n",
       "\n",
       "    .dataframe tbody tr th {\n",
       "        vertical-align: top;\n",
       "    }\n",
       "\n",
       "    .dataframe thead th {\n",
       "        text-align: right;\n",
       "    }\n",
       "</style>\n",
       "<table border=\"1\" class=\"dataframe\">\n",
       "  <thead>\n",
       "    <tr style=\"text-align: right;\">\n",
       "      <th></th>\n",
       "      <th>trip_distance</th>\n",
       "      <th>pick_up</th>\n",
       "      <th>drop_off</th>\n",
       "      <th>fare_amount</th>\n",
       "      <th>extra</th>\n",
       "      <th>tip_amount</th>\n",
       "      <th>total_amount</th>\n",
       "      <th>passenger_count</th>\n",
       "      <th>pick_up_location</th>\n",
       "      <th>trip_duration</th>\n",
       "      <th>trip_minutes</th>\n",
       "    </tr>\n",
       "  </thead>\n",
       "  <tbody>\n",
       "    <tr>\n",
       "      <th>0</th>\n",
       "      <td>3.34</td>\n",
       "      <td>2017-03-25 08:55:43</td>\n",
       "      <td>2017-03-25 09:09:47</td>\n",
       "      <td>13.0</td>\n",
       "      <td>0.0</td>\n",
       "      <td>2.76</td>\n",
       "      <td>16.56</td>\n",
       "      <td>6</td>\n",
       "      <td>100</td>\n",
       "      <td>0 days 00:14:04</td>\n",
       "      <td>14.07</td>\n",
       "    </tr>\n",
       "    <tr>\n",
       "      <th>1</th>\n",
       "      <td>1.80</td>\n",
       "      <td>2017-04-11 14:53:28</td>\n",
       "      <td>2017-04-11 15:19:58</td>\n",
       "      <td>16.0</td>\n",
       "      <td>0.0</td>\n",
       "      <td>4.00</td>\n",
       "      <td>20.80</td>\n",
       "      <td>1</td>\n",
       "      <td>186</td>\n",
       "      <td>0 days 00:26:30</td>\n",
       "      <td>26.50</td>\n",
       "    </tr>\n",
       "    <tr>\n",
       "      <th>2</th>\n",
       "      <td>1.00</td>\n",
       "      <td>2017-12-15 07:26:56</td>\n",
       "      <td>2017-12-15 07:34:08</td>\n",
       "      <td>6.5</td>\n",
       "      <td>0.0</td>\n",
       "      <td>1.45</td>\n",
       "      <td>8.75</td>\n",
       "      <td>1</td>\n",
       "      <td>262</td>\n",
       "      <td>0 days 00:07:12</td>\n",
       "      <td>7.20</td>\n",
       "    </tr>\n",
       "    <tr>\n",
       "      <th>3</th>\n",
       "      <td>3.70</td>\n",
       "      <td>2017-05-07 13:17:59</td>\n",
       "      <td>2017-05-07 13:48:14</td>\n",
       "      <td>20.5</td>\n",
       "      <td>0.0</td>\n",
       "      <td>6.39</td>\n",
       "      <td>27.69</td>\n",
       "      <td>1</td>\n",
       "      <td>188</td>\n",
       "      <td>0 days 00:30:15</td>\n",
       "      <td>30.25</td>\n",
       "    </tr>\n",
       "    <tr>\n",
       "      <th>4</th>\n",
       "      <td>4.37</td>\n",
       "      <td>2017-04-15 23:32:20</td>\n",
       "      <td>2017-04-15 23:49:03</td>\n",
       "      <td>16.5</td>\n",
       "      <td>0.5</td>\n",
       "      <td>0.00</td>\n",
       "      <td>17.80</td>\n",
       "      <td>1</td>\n",
       "      <td>4</td>\n",
       "      <td>0 days 00:16:43</td>\n",
       "      <td>16.72</td>\n",
       "    </tr>\n",
       "  </tbody>\n",
       "</table>\n",
       "</div>"
      ],
      "text/plain": [
       "   trip_distance             pick_up            drop_off  fare_amount  extra  \\\n",
       "0           3.34 2017-03-25 08:55:43 2017-03-25 09:09:47         13.0    0.0   \n",
       "1           1.80 2017-04-11 14:53:28 2017-04-11 15:19:58         16.0    0.0   \n",
       "2           1.00 2017-12-15 07:26:56 2017-12-15 07:34:08          6.5    0.0   \n",
       "3           3.70 2017-05-07 13:17:59 2017-05-07 13:48:14         20.5    0.0   \n",
       "4           4.37 2017-04-15 23:32:20 2017-04-15 23:49:03         16.5    0.5   \n",
       "\n",
       "   tip_amount  total_amount  passenger_count  pick_up_location  \\\n",
       "0        2.76         16.56                6               100   \n",
       "1        4.00         20.80                1               186   \n",
       "2        1.45          8.75                1               262   \n",
       "3        6.39         27.69                1               188   \n",
       "4        0.00         17.80                1                 4   \n",
       "\n",
       "    trip_duration  trip_minutes  \n",
       "0 0 days 00:14:04         14.07  \n",
       "1 0 days 00:26:30         26.50  \n",
       "2 0 days 00:07:12          7.20  \n",
       "3 0 days 00:30:15         30.25  \n",
       "4 0 days 00:16:43         16.72  "
      ]
     },
     "execution_count": 15,
     "metadata": {},
     "output_type": "execute_result"
    }
   ],
   "source": [
    "# Inspecting the changes took place\n",
    "taxi_trips.head()"
   ]
  },
  {
   "cell_type": "code",
   "execution_count": 16,
   "metadata": {},
   "outputs": [
    {
     "data": {
      "text/plain": [
       "trip_distance               float64\n",
       "pick_up              datetime64[ns]\n",
       "drop_off             datetime64[ns]\n",
       "fare_amount                 float64\n",
       "extra                       float64\n",
       "tip_amount                  float64\n",
       "total_amount                float64\n",
       "passenger_count               int64\n",
       "pick_up_location              int64\n",
       "trip_duration       timedelta64[ns]\n",
       "trip_minutes                float64\n",
       "dtype: object"
      ]
     },
     "execution_count": 16,
     "metadata": {},
     "output_type": "execute_result"
    }
   ],
   "source": [
    "# Inspecting we have our columns as the correct data type\n",
    "taxi_trips.dtypes"
   ]
  },
  {
   "cell_type": "code",
   "execution_count": 17,
   "metadata": {},
   "outputs": [
    {
     "data": {
      "text/html": [
       "<div>\n",
       "<style scoped>\n",
       "    .dataframe tbody tr th:only-of-type {\n",
       "        vertical-align: middle;\n",
       "    }\n",
       "\n",
       "    .dataframe tbody tr th {\n",
       "        vertical-align: top;\n",
       "    }\n",
       "\n",
       "    .dataframe thead th {\n",
       "        text-align: right;\n",
       "    }\n",
       "</style>\n",
       "<table border=\"1\" class=\"dataframe\">\n",
       "  <thead>\n",
       "    <tr style=\"text-align: right;\">\n",
       "      <th></th>\n",
       "      <th>trip_distance</th>\n",
       "      <th>trip_minutes</th>\n",
       "    </tr>\n",
       "  </thead>\n",
       "  <tbody>\n",
       "    <tr>\n",
       "      <th>count</th>\n",
       "      <td>22699.000000</td>\n",
       "      <td>22699.000000</td>\n",
       "    </tr>\n",
       "    <tr>\n",
       "      <th>mean</th>\n",
       "      <td>2.913313</td>\n",
       "      <td>17.013766</td>\n",
       "    </tr>\n",
       "    <tr>\n",
       "      <th>std</th>\n",
       "      <td>3.653171</td>\n",
       "      <td>61.996476</td>\n",
       "    </tr>\n",
       "    <tr>\n",
       "      <th>min</th>\n",
       "      <td>0.000000</td>\n",
       "      <td>-16.980000</td>\n",
       "    </tr>\n",
       "    <tr>\n",
       "      <th>25%</th>\n",
       "      <td>0.990000</td>\n",
       "      <td>6.650000</td>\n",
       "    </tr>\n",
       "    <tr>\n",
       "      <th>50%</th>\n",
       "      <td>1.610000</td>\n",
       "      <td>11.180000</td>\n",
       "    </tr>\n",
       "    <tr>\n",
       "      <th>75%</th>\n",
       "      <td>3.060000</td>\n",
       "      <td>18.380000</td>\n",
       "    </tr>\n",
       "    <tr>\n",
       "      <th>max</th>\n",
       "      <td>33.960000</td>\n",
       "      <td>1439.550000</td>\n",
       "    </tr>\n",
       "  </tbody>\n",
       "</table>\n",
       "</div>"
      ],
      "text/plain": [
       "       trip_distance  trip_minutes\n",
       "count   22699.000000  22699.000000\n",
       "mean        2.913313     17.013766\n",
       "std         3.653171     61.996476\n",
       "min         0.000000    -16.980000\n",
       "25%         0.990000      6.650000\n",
       "50%         1.610000     11.180000\n",
       "75%         3.060000     18.380000\n",
       "max        33.960000   1439.550000"
      ]
     },
     "execution_count": 17,
     "metadata": {},
     "output_type": "execute_result"
    }
   ],
   "source": [
    "# Statistical analysis of the variables we are interested in\n",
    "\n",
    "(taxi_trips\n",
    " .filter(['trip_distance','trip_minutes'])\n",
    " .describe()\n",
    ")"
   ]
  },
  {
   "cell_type": "code",
   "execution_count": 18,
   "metadata": {
    "id": "uLvs3_hMyF9H"
   },
   "outputs": [
    {
     "data": {
      "text/plain": [
       "<Axes: xlabel='trip_distance'>"
      ]
     },
     "execution_count": 18,
     "metadata": {},
     "output_type": "execute_result"
    },
    {
     "data": {
      "image/png": "[encoded data removed]",
      "text/plain": [
       "<Figure size 640x480 with 1 Axes>"
      ]
     },
     "metadata": {},
     "output_type": "display_data"
    }
   ],
   "source": [
    "# Boxplot visualising the trip distance outliers\n",
    "\n",
    "(sns.boxplot(data=taxi_trips\n",
    "            ,x='trip_distance')\n",
    ")"
   ]
  },
  {
   "cell_type": "code",
   "execution_count": 19,
   "metadata": {},
   "outputs": [
    {
     "name": "stdout",
     "output_type": "stream",
     "text": [
      "2.07\n"
     ]
    }
   ],
   "source": [
    "# Outlier removal\n",
    "\n",
    "#calculate interquartile range \n",
    "q3, q1 = np.percentile(taxi_trips.trip_distance, [75 ,25])\n",
    "IQR = q3 - q1\n",
    "\n",
    "#display interquartile range \n",
    "print(IQR.round(2))\n",
    "\n",
    "# Above Upper bound\n",
    "upper = q3 + 1.5*IQR\n",
    "\n",
    "#Below Lower bound\n",
    "lower = q1 - 1.5*IQR\n",
    "\n",
    "# Filtering Values between the upper and lower bound. Stack overflows code commented out\n",
    "# My code uncommented. @ in query method allows us to call variables.\n",
    "\n",
    "# filtered = df.query('(@Q1 - 1.5 * @IQR) <= nb <= (@Q3 + 1.5 * @IQR)')\n",
    "\n",
    "trip_distance_filtered = (taxi_trips\n",
    "                          .query('(@q1 - 1.5*@IQR) <= trip_distance <= (@q3 + 1.5*@IQR) ')\n",
    "                          )"
   ]
  },
  {
   "cell_type": "code",
   "execution_count": 20,
   "metadata": {},
   "outputs": [
    {
     "data": {
      "text/plain": [
       "<Axes: xlabel='trip_minutes'>"
      ]
     },
     "execution_count": 20,
     "metadata": {},
     "output_type": "execute_result"
    },
    {
     "data": {
      "image/png": "[encoded data removed]",
      "text/plain": [
       "<Figure size 640x480 with 1 Axes>"
      ]
     },
     "metadata": {},
     "output_type": "display_data"
    }
   ],
   "source": [
    "(sns.boxplot(data=taxi_trips\n",
    "            ,x='trip_minutes')\n",
    ")"
   ]
  },
  {
   "cell_type": "code",
   "execution_count": 21,
   "metadata": {},
   "outputs": [
    {
     "data": {
      "text/html": [
       "<div>\n",
       "<style scoped>\n",
       "    .dataframe tbody tr th:only-of-type {\n",
       "        vertical-align: middle;\n",
       "    }\n",
       "\n",
       "    .dataframe tbody tr th {\n",
       "        vertical-align: top;\n",
       "    }\n",
       "\n",
       "    .dataframe thead th {\n",
       "        text-align: right;\n",
       "    }\n",
       "</style>\n",
       "<table border=\"1\" class=\"dataframe\">\n",
       "  <thead>\n",
       "    <tr style=\"text-align: right;\">\n",
       "      <th></th>\n",
       "      <th>trip_minutes</th>\n",
       "    </tr>\n",
       "  </thead>\n",
       "  <tbody>\n",
       "    <tr>\n",
       "      <th>924</th>\n",
       "      <td>1439.55</td>\n",
       "    </tr>\n",
       "    <tr>\n",
       "      <th>15579</th>\n",
       "      <td>1439.15</td>\n",
       "    </tr>\n",
       "    <tr>\n",
       "      <th>14998</th>\n",
       "      <td>1438.85</td>\n",
       "    </tr>\n",
       "    <tr>\n",
       "      <th>22638</th>\n",
       "      <td>1438.65</td>\n",
       "    </tr>\n",
       "    <tr>\n",
       "      <th>15163</th>\n",
       "      <td>1438.55</td>\n",
       "    </tr>\n",
       "    <tr>\n",
       "      <th>7939</th>\n",
       "      <td>1438.47</td>\n",
       "    </tr>\n",
       "    <tr>\n",
       "      <th>21366</th>\n",
       "      <td>1438.27</td>\n",
       "    </tr>\n",
       "    <tr>\n",
       "      <th>6751</th>\n",
       "      <td>1438.03</td>\n",
       "    </tr>\n",
       "    <tr>\n",
       "      <th>6493</th>\n",
       "      <td>1437.83</td>\n",
       "    </tr>\n",
       "    <tr>\n",
       "      <th>18650</th>\n",
       "      <td>1436.97</td>\n",
       "    </tr>\n",
       "    <tr>\n",
       "      <th>7012</th>\n",
       "      <td>1436.67</td>\n",
       "    </tr>\n",
       "    <tr>\n",
       "      <th>21418</th>\n",
       "      <td>1436.50</td>\n",
       "    </tr>\n",
       "    <tr>\n",
       "      <th>21511</th>\n",
       "      <td>1436.45</td>\n",
       "    </tr>\n",
       "    <tr>\n",
       "      <th>8869</th>\n",
       "      <td>1435.80</td>\n",
       "    </tr>\n",
       "    <tr>\n",
       "      <th>10929</th>\n",
       "      <td>1435.12</td>\n",
       "    </tr>\n",
       "    <tr>\n",
       "      <th>10210</th>\n",
       "      <td>1433.98</td>\n",
       "    </tr>\n",
       "    <tr>\n",
       "      <th>18543</th>\n",
       "      <td>1432.92</td>\n",
       "    </tr>\n",
       "    <tr>\n",
       "      <th>18423</th>\n",
       "      <td>1432.07</td>\n",
       "    </tr>\n",
       "    <tr>\n",
       "      <th>20687</th>\n",
       "      <td>1431.27</td>\n",
       "    </tr>\n",
       "    <tr>\n",
       "      <th>5370</th>\n",
       "      <td>1431.07</td>\n",
       "    </tr>\n",
       "    <tr>\n",
       "      <th>13796</th>\n",
       "      <td>1430.85</td>\n",
       "    </tr>\n",
       "    <tr>\n",
       "      <th>697</th>\n",
       "      <td>1430.83</td>\n",
       "    </tr>\n",
       "    <tr>\n",
       "      <th>1010</th>\n",
       "      <td>1430.03</td>\n",
       "    </tr>\n",
       "    <tr>\n",
       "      <th>22278</th>\n",
       "      <td>1429.32</td>\n",
       "    </tr>\n",
       "    <tr>\n",
       "      <th>21648</th>\n",
       "      <td>1428.73</td>\n",
       "    </tr>\n",
       "    <tr>\n",
       "      <th>1199</th>\n",
       "      <td>1424.85</td>\n",
       "    </tr>\n",
       "    <tr>\n",
       "      <th>19164</th>\n",
       "      <td>1424.18</td>\n",
       "    </tr>\n",
       "    <tr>\n",
       "      <th>14322</th>\n",
       "      <td>1424.08</td>\n",
       "    </tr>\n",
       "    <tr>\n",
       "      <th>9208</th>\n",
       "      <td>1423.15</td>\n",
       "    </tr>\n",
       "    <tr>\n",
       "      <th>12562</th>\n",
       "      <td>1420.92</td>\n",
       "    </tr>\n",
       "    <tr>\n",
       "      <th>1758</th>\n",
       "      <td>1420.35</td>\n",
       "    </tr>\n",
       "    <tr>\n",
       "      <th>8712</th>\n",
       "      <td>1418.63</td>\n",
       "    </tr>\n",
       "    <tr>\n",
       "      <th>14409</th>\n",
       "      <td>1414.67</td>\n",
       "    </tr>\n",
       "    <tr>\n",
       "      <th>11672</th>\n",
       "      <td>1413.07</td>\n",
       "    </tr>\n",
       "    <tr>\n",
       "      <th>5478</th>\n",
       "      <td>1399.98</td>\n",
       "    </tr>\n",
       "    <tr>\n",
       "      <th>1355</th>\n",
       "      <td>1399.40</td>\n",
       "    </tr>\n",
       "    <tr>\n",
       "      <th>12944</th>\n",
       "      <td>1395.68</td>\n",
       "    </tr>\n",
       "    <tr>\n",
       "      <th>4600</th>\n",
       "      <td>1394.88</td>\n",
       "    </tr>\n",
       "    <tr>\n",
       "      <th>13147</th>\n",
       "      <td>1392.05</td>\n",
       "    </tr>\n",
       "    <tr>\n",
       "      <th>17394</th>\n",
       "      <td>1391.73</td>\n",
       "    </tr>\n",
       "    <tr>\n",
       "      <th>7169</th>\n",
       "      <td>1386.80</td>\n",
       "    </tr>\n",
       "    <tr>\n",
       "      <th>8195</th>\n",
       "      <td>1298.88</td>\n",
       "    </tr>\n",
       "    <tr>\n",
       "      <th>11885</th>\n",
       "      <td>736.05</td>\n",
       "    </tr>\n",
       "    <tr>\n",
       "      <th>13219</th>\n",
       "      <td>689.88</td>\n",
       "    </tr>\n",
       "    <tr>\n",
       "      <th>5051</th>\n",
       "      <td>332.12</td>\n",
       "    </tr>\n",
       "    <tr>\n",
       "      <th>29</th>\n",
       "      <td>209.17</td>\n",
       "    </tr>\n",
       "  </tbody>\n",
       "</table>\n",
       "</div>"
      ],
      "text/plain": [
       "       trip_minutes\n",
       "924         1439.55\n",
       "15579       1439.15\n",
       "14998       1438.85\n",
       "22638       1438.65\n",
       "15163       1438.55\n",
       "7939        1438.47\n",
       "21366       1438.27\n",
       "6751        1438.03\n",
       "6493        1437.83\n",
       "18650       1436.97\n",
       "7012        1436.67\n",
       "21418       1436.50\n",
       "21511       1436.45\n",
       "8869        1435.80\n",
       "10929       1435.12\n",
       "10210       1433.98\n",
       "18543       1432.92\n",
       "18423       1432.07\n",
       "20687       1431.27\n",
       "5370        1431.07\n",
       "13796       1430.85\n",
       "697         1430.83\n",
       "1010        1430.03\n",
       "22278       1429.32\n",
       "21648       1428.73\n",
       "1199        1424.85\n",
       "19164       1424.18\n",
       "14322       1424.08\n",
       "9208        1423.15\n",
       "12562       1420.92\n",
       "1758        1420.35\n",
       "8712        1418.63\n",
       "14409       1414.67\n",
       "11672       1413.07\n",
       "5478        1399.98\n",
       "1355        1399.40\n",
       "12944       1395.68\n",
       "4600        1394.88\n",
       "13147       1392.05\n",
       "17394       1391.73\n",
       "7169        1386.80\n",
       "8195        1298.88\n",
       "11885        736.05\n",
       "13219        689.88\n",
       "5051         332.12\n",
       "29           209.17"
      ]
     },
     "execution_count": 21,
     "metadata": {},
     "output_type": "execute_result"
    }
   ],
   "source": [
    "# Exploring the commanality of a taxi trip over 200 minutes.\n",
    "\n",
    "(taxi_trips\n",
    " .query('trip_minutes >= 200')\n",
    " .filter(['trip_minutes'])\n",
    " .sort_values(by='trip_minutes',ascending=False)\n",
    "#  .count()\n",
    "#  .value_counts()\n",
    ")"
   ]
  },
  {
   "cell_type": "code",
   "execution_count": 22,
   "metadata": {},
   "outputs": [
    {
     "data": {
      "text/plain": [
       "1439.55"
      ]
     },
     "execution_count": 22,
     "metadata": {},
     "output_type": "execute_result"
    }
   ],
   "source": [
    "# Inspecting the longest trip.\n",
    "\n",
    "(taxi_trips\n",
    " .trip_minutes\n",
    "# .value_counts()\n",
    " .max()\n",
    ")"
   ]
  },
  {
   "cell_type": "code",
   "execution_count": 23,
   "metadata": {},
   "outputs": [
    {
     "data": {
      "text/plain": [
       "7.08     35\n",
       "9.83     34\n",
       "7.57     34\n",
       "6.97     32\n",
       "10.63    32\n",
       "         ..\n",
       "61.30     1\n",
       "44.35     1\n",
       "63.12     1\n",
       "97.45     1\n",
       "80.75     1\n",
       "Name: trip_minutes, Length: 3026, dtype: int64"
      ]
     },
     "execution_count": 23,
     "metadata": {},
     "output_type": "execute_result"
    }
   ],
   "source": [
    "# Inspecting the frequency of trip durations.\n",
    "# Shorter journerys appear to be the most common.\n",
    "\n",
    "(taxi_trips\n",
    " .trip_minutes\n",
    " .value_counts()\n",
    ")"
   ]
  },
  {
   "cell_type": "markdown",
   "metadata": {
    "id": "vCGi3U9nw4Er"
   },
   "source": [
    "### Task 2b. Assess whether dimensions and measures are correct"
   ]
  },
  {
   "cell_type": "markdown",
   "metadata": {
    "id": "sPlm615Ywifi"
   },
   "source": [
    "### Task 2c. Select visualization type(s)"
   ]
  },
  {
   "cell_type": "markdown",
   "metadata": {
    "id": "2YdC51QBSG2v"
   },
   "source": [
    "Select data visualization types that will help you understand and explain the data.\n",
    "\n",
    "Now that you know which data columns you’ll use, it is time to decide which data visualization makes the most sense for EDA of the TLC dataset. What type of data visualization(s) would be most helpful? \n",
    "\n",
    "* Line graph\n",
    "* Bar chart\n",
    "* Box plot\n",
    "* Histogram\n",
    "* Heat map\n",
    "* Scatter plot\n",
    "* A geographic map\n"
   ]
  },
  {
   "cell_type": "markdown",
   "metadata": {
    "id": "BYWkZ4i3wgv4"
   },
   "source": [
    "### Task 3. Building visualizations\n",
    "\n",
    "You’ve assessed your data, and decided on which data variables are most applicable. It’s time to plot your visualization(s)!\n"
   ]
  },
  {
   "cell_type": "code",
   "execution_count": 24,
   "metadata": {},
   "outputs": [],
   "source": [
    "# (so.Plot(data= taxi_trips\n",
    "#         ,x='trip_minutes'\n",
    "# #         ,x='trip_distance'\n",
    "#         )\n",
    "#  .add(so.Bars()\n",
    "#       ,so.Hist()\n",
    "# #       ,so.Dodge()\n",
    "#      )\n",
    "# )"
   ]
  },
  {
   "cell_type": "code",
   "execution_count": 25,
   "metadata": {},
   "outputs": [
    {
     "data": {
      "text/plain": [
       "<Axes: xlabel='trip_distance'>"
      ]
     },
     "execution_count": 25,
     "metadata": {},
     "output_type": "execute_result"
    },
    {
     "data": {
      "image/png": "[encoded data removed]",
      "text/plain": [
       "<Figure size 640x480 with 1 Axes>"
      ]
     },
     "metadata": {},
     "output_type": "display_data"
    }
   ],
   "source": [
    "# Plotting the distribution of trip distances with the outliers removed.\n",
    "\n",
    "(sns.boxplot(data= trip_distance_filtered\n",
    "             ,x='trip_distance'\n",
    "             )\n",
    " )"
   ]
  },
  {
   "cell_type": "code",
   "execution_count": 26,
   "metadata": {},
   "outputs": [
    {
     "data": {
      "image/png": "[encoded data removed]",
      "text/plain": [
       "<seaborn._core.plot.Plot at 0x27794b73d00>"
      ]
     },
     "execution_count": 26,
     "metadata": {
      "image/png": {
       "height": 378.25,
       "width": 509.15
      }
     },
     "output_type": "execute_result"
    }
   ],
   "source": [
    "# Plotting the histogram distribution of trip distances.\n",
    "\n",
    "(so.Plot(data= taxi_trips\n",
    "         ,x='trip_distance'\n",
    "         )\n",
    " .add(so.Bars(),so.Hist()\n",
    "#       ,so.Dodge()\n",
    "     )\n",
    ")"
   ]
  },
  {
   "cell_type": "code",
   "execution_count": 27,
   "metadata": {},
   "outputs": [
    {
     "data": {
      "image/png": "[encoded data removed]",
      "text/plain": [
       "<seaborn._core.plot.Plot at 0x27793efab00>"
      ]
     },
     "execution_count": 27,
     "metadata": {
      "image/png": {
       "height": 378.25,
       "width": 509.15
      }
     },
     "output_type": "execute_result"
    }
   ],
   "source": [
    "# Plotting the histogram distribution of trip distances with the outliers removed.\n",
    "# We can see how much more clarity we have in telling stories via outlier removal. \n",
    "# Outliers can have validity but as they had low frequency we treated them as anomalies. This allows us to draw better insights.\n",
    "\n",
    "(so.Plot(data= trip_distance_filtered\n",
    "         ,x='trip_distance'\n",
    "         )\n",
    " .add(so.Bars(),so.Hist()\n",
    "#       ,so.Dodge()\n",
    "     )\n",
    ")"
   ]
  },
  {
   "cell_type": "code",
   "execution_count": 28,
   "metadata": {},
   "outputs": [
    {
     "name": "stdout",
     "output_type": "stream",
     "text": [
      "11.73\n"
     ]
    }
   ],
   "source": [
    "# Outlier removal for trip minutes\n",
    "\n",
    "#calculate interquartile range \n",
    "q3, q1 = np.percentile(taxi_trips.trip_minutes, [75 ,25])\n",
    "IQR = q3 - q1\n",
    "\n",
    "#display interquartile range \n",
    "print(IQR.round(2))\n",
    "\n",
    "# Above Upper bound\n",
    "upper = q3 + 1.5*IQR\n",
    "\n",
    "#Below Lower bound\n",
    "lower = q1 - 1.5*IQR\n",
    "\n",
    "# Filtering Values between the upper and lower bound. Stack overflows code commented out\n",
    "# My code uncommented. @ in query method allows us to call variables.\n",
    "\n",
    "# filtered = df.query('(@Q1 - 1.5 * @IQR) <= nb <= (@Q3 + 1.5 * @IQR)')\n",
    "\n",
    "trip_minutes_filtered = (taxi_trips\n",
    "                          .query('(@q1 - 1.5*@IQR) <= trip_minutes <= (@q3 + 1.5*@IQR) ')\n",
    "                          )"
   ]
  },
  {
   "cell_type": "code",
   "execution_count": 29,
   "metadata": {},
   "outputs": [
    {
     "data": {
      "image/png": "[encoded data removed]",
      "text/plain": [
       "<seaborn._core.plot.Plot at 0x27794c81030>"
      ]
     },
     "execution_count": 29,
     "metadata": {
      "image/png": {
       "height": 378.25,
       "width": 509.15
      }
     },
     "output_type": "execute_result"
    }
   ],
   "source": [
    "# Plotting the histogram distribution of trip minutes.\n",
    "# Visually we can see the outliers need to be removed to provide a clearer picture.\n",
    "\n",
    "(so.Plot(data= taxi_trips\n",
    "         ,x='trip_minutes'\n",
    "         )\n",
    " .add(so.Bars(),so.Hist()\n",
    "     )\n",
    ")"
   ]
  },
  {
   "cell_type": "code",
   "execution_count": 30,
   "metadata": {},
   "outputs": [
    {
     "data": {
      "image/png": "[encoded data removed]",
      "text/plain": [
       "<seaborn._core.plot.Plot at 0x27794c346d0>"
      ]
     },
     "execution_count": 30,
     "metadata": {
      "image/png": {
       "height": 378.25,
       "width": 509.15
      }
     },
     "output_type": "execute_result"
    }
   ],
   "source": [
    "# Plotting the histogram distribution of trip minutes with the outliers removed.\n",
    "# We can see far clearer which are the actual most common trip durations in minutes. \n",
    "# We can now draw insights for the taxi company on the most common trips.\n",
    "\n",
    "(so.Plot(data= trip_minutes_filtered\n",
    "         ,x='trip_minutes'\n",
    "         )\n",
    " .add(so.Bars(),so.Hist()\n",
    "     )\n",
    ")"
   ]
  },
  {
   "cell_type": "code",
   "execution_count": 31,
   "metadata": {},
   "outputs": [
    {
     "data": {
      "text/plain": [
       "<Axes: xlabel='total_amount'>"
      ]
     },
     "execution_count": 31,
     "metadata": {},
     "output_type": "execute_result"
    },
    {
     "data": {
      "image/png": "[encoded data removed]",
      "text/plain": [
       "<Figure size 640x480 with 1 Axes>"
      ]
     },
     "metadata": {},
     "output_type": "display_data"
    }
   ],
   "source": [
    "# Visualising total amount paid for taxi trips\n",
    "\n",
    "(sns.boxplot(data= taxi_trips\n",
    "             ,x='total_amount'\n",
    "             )\n",
    " )"
   ]
  },
  {
   "cell_type": "markdown",
   "metadata": {
    "id": "AuTSh2U0yF9J"
   },
   "source": [
    "#### *Remove those trips with costs associated, but with a trip distance = to \"0.\"*"
   ]
  },
  {
   "cell_type": "code",
   "execution_count": 32,
   "metadata": {
    "id": "7dC4zevhyF9J"
   },
   "outputs": [
    {
     "data": {
      "text/html": [
       "<div>\n",
       "<style scoped>\n",
       "    .dataframe tbody tr th:only-of-type {\n",
       "        vertical-align: middle;\n",
       "    }\n",
       "\n",
       "    .dataframe tbody tr th {\n",
       "        vertical-align: top;\n",
       "    }\n",
       "\n",
       "    .dataframe thead th {\n",
       "        text-align: right;\n",
       "    }\n",
       "</style>\n",
       "<table border=\"1\" class=\"dataframe\">\n",
       "  <thead>\n",
       "    <tr style=\"text-align: right;\">\n",
       "      <th></th>\n",
       "      <th>trip_distance</th>\n",
       "      <th>pick_up</th>\n",
       "      <th>drop_off</th>\n",
       "      <th>fare_amount</th>\n",
       "      <th>extra</th>\n",
       "      <th>tip_amount</th>\n",
       "      <th>total_amount</th>\n",
       "      <th>passenger_count</th>\n",
       "      <th>pick_up_location</th>\n",
       "      <th>trip_duration</th>\n",
       "      <th>trip_minutes</th>\n",
       "    </tr>\n",
       "  </thead>\n",
       "  <tbody>\n",
       "    <tr>\n",
       "      <th>128</th>\n",
       "      <td>0.0</td>\n",
       "      <td>2017-06-22 08:05:33</td>\n",
       "      <td>2017-06-22 08:05:40</td>\n",
       "      <td>20.0</td>\n",
       "      <td>0.0</td>\n",
       "      <td>0.00</td>\n",
       "      <td>20.30</td>\n",
       "      <td>1</td>\n",
       "      <td>231</td>\n",
       "      <td>0 days 00:00:07</td>\n",
       "      <td>0.12</td>\n",
       "    </tr>\n",
       "    <tr>\n",
       "      <th>246</th>\n",
       "      <td>0.0</td>\n",
       "      <td>2017-09-18 20:50:53</td>\n",
       "      <td>2017-09-18 20:51:03</td>\n",
       "      <td>2.5</td>\n",
       "      <td>0.5</td>\n",
       "      <td>0.00</td>\n",
       "      <td>3.80</td>\n",
       "      <td>1</td>\n",
       "      <td>145</td>\n",
       "      <td>0 days 00:00:10</td>\n",
       "      <td>0.17</td>\n",
       "    </tr>\n",
       "    <tr>\n",
       "      <th>291</th>\n",
       "      <td>0.0</td>\n",
       "      <td>2017-10-04 19:46:24</td>\n",
       "      <td>2017-10-04 19:46:50</td>\n",
       "      <td>2.5</td>\n",
       "      <td>1.0</td>\n",
       "      <td>0.00</td>\n",
       "      <td>4.30</td>\n",
       "      <td>1</td>\n",
       "      <td>132</td>\n",
       "      <td>0 days 00:00:26</td>\n",
       "      <td>0.43</td>\n",
       "    </tr>\n",
       "    <tr>\n",
       "      <th>319</th>\n",
       "      <td>0.0</td>\n",
       "      <td>2017-02-22 04:01:44</td>\n",
       "      <td>2017-02-22 04:01:53</td>\n",
       "      <td>2.5</td>\n",
       "      <td>0.5</td>\n",
       "      <td>0.00</td>\n",
       "      <td>3.80</td>\n",
       "      <td>1</td>\n",
       "      <td>90</td>\n",
       "      <td>0 days 00:00:09</td>\n",
       "      <td>0.15</td>\n",
       "    </tr>\n",
       "    <tr>\n",
       "      <th>424</th>\n",
       "      <td>0.0</td>\n",
       "      <td>2017-01-14 07:00:26</td>\n",
       "      <td>2017-01-14 07:00:53</td>\n",
       "      <td>2.5</td>\n",
       "      <td>0.0</td>\n",
       "      <td>6.70</td>\n",
       "      <td>10.00</td>\n",
       "      <td>1</td>\n",
       "      <td>208</td>\n",
       "      <td>0 days 00:00:27</td>\n",
       "      <td>0.45</td>\n",
       "    </tr>\n",
       "    <tr>\n",
       "      <th>...</th>\n",
       "      <td>...</td>\n",
       "      <td>...</td>\n",
       "      <td>...</td>\n",
       "      <td>...</td>\n",
       "      <td>...</td>\n",
       "      <td>...</td>\n",
       "      <td>...</td>\n",
       "      <td>...</td>\n",
       "      <td>...</td>\n",
       "      <td>...</td>\n",
       "      <td>...</td>\n",
       "    </tr>\n",
       "    <tr>\n",
       "      <th>22190</th>\n",
       "      <td>0.0</td>\n",
       "      <td>2017-10-16 08:34:07</td>\n",
       "      <td>2017-10-16 08:34:10</td>\n",
       "      <td>2.5</td>\n",
       "      <td>0.0</td>\n",
       "      <td>0.00</td>\n",
       "      <td>3.30</td>\n",
       "      <td>1</td>\n",
       "      <td>132</td>\n",
       "      <td>0 days 00:00:03</td>\n",
       "      <td>0.05</td>\n",
       "    </tr>\n",
       "    <tr>\n",
       "      <th>22325</th>\n",
       "      <td>0.0</td>\n",
       "      <td>2017-07-21 23:30:29</td>\n",
       "      <td>2017-07-21 23:31:12</td>\n",
       "      <td>16.8</td>\n",
       "      <td>0.0</td>\n",
       "      <td>3.42</td>\n",
       "      <td>20.52</td>\n",
       "      <td>1</td>\n",
       "      <td>163</td>\n",
       "      <td>0 days 00:00:43</td>\n",
       "      <td>0.72</td>\n",
       "    </tr>\n",
       "    <tr>\n",
       "      <th>22383</th>\n",
       "      <td>0.0</td>\n",
       "      <td>2017-01-07 04:48:42</td>\n",
       "      <td>2017-01-07 04:51:03</td>\n",
       "      <td>10.0</td>\n",
       "      <td>0.0</td>\n",
       "      <td>0.00</td>\n",
       "      <td>10.30</td>\n",
       "      <td>1</td>\n",
       "      <td>55</td>\n",
       "      <td>0 days 00:02:21</td>\n",
       "      <td>2.35</td>\n",
       "    </tr>\n",
       "    <tr>\n",
       "      <th>22566</th>\n",
       "      <td>0.0</td>\n",
       "      <td>2017-03-07 02:24:47</td>\n",
       "      <td>2017-03-07 02:24:50</td>\n",
       "      <td>0.0</td>\n",
       "      <td>0.0</td>\n",
       "      <td>0.00</td>\n",
       "      <td>0.00</td>\n",
       "      <td>1</td>\n",
       "      <td>264</td>\n",
       "      <td>0 days 00:00:03</td>\n",
       "      <td>0.05</td>\n",
       "    </tr>\n",
       "    <tr>\n",
       "      <th>22670</th>\n",
       "      <td>0.0</td>\n",
       "      <td>2017-03-03 23:09:16</td>\n",
       "      <td>2017-03-03 23:09:35</td>\n",
       "      <td>2.5</td>\n",
       "      <td>0.5</td>\n",
       "      <td>0.00</td>\n",
       "      <td>3.80</td>\n",
       "      <td>1</td>\n",
       "      <td>132</td>\n",
       "      <td>0 days 00:00:19</td>\n",
       "      <td>0.32</td>\n",
       "    </tr>\n",
       "  </tbody>\n",
       "</table>\n",
       "<p>148 rows × 11 columns</p>\n",
       "</div>"
      ],
      "text/plain": [
       "       trip_distance             pick_up            drop_off  fare_amount  \\\n",
       "128              0.0 2017-06-22 08:05:33 2017-06-22 08:05:40         20.0   \n",
       "246              0.0 2017-09-18 20:50:53 2017-09-18 20:51:03          2.5   \n",
       "291              0.0 2017-10-04 19:46:24 2017-10-04 19:46:50          2.5   \n",
       "319              0.0 2017-02-22 04:01:44 2017-02-22 04:01:53          2.5   \n",
       "424              0.0 2017-01-14 07:00:26 2017-01-14 07:00:53          2.5   \n",
       "...              ...                 ...                 ...          ...   \n",
       "22190            0.0 2017-10-16 08:34:07 2017-10-16 08:34:10          2.5   \n",
       "22325            0.0 2017-07-21 23:30:29 2017-07-21 23:31:12         16.8   \n",
       "22383            0.0 2017-01-07 04:48:42 2017-01-07 04:51:03         10.0   \n",
       "22566            0.0 2017-03-07 02:24:47 2017-03-07 02:24:50          0.0   \n",
       "22670            0.0 2017-03-03 23:09:16 2017-03-03 23:09:35          2.5   \n",
       "\n",
       "       extra  tip_amount  total_amount  passenger_count  pick_up_location  \\\n",
       "128      0.0        0.00         20.30                1               231   \n",
       "246      0.5        0.00          3.80                1               145   \n",
       "291      1.0        0.00          4.30                1               132   \n",
       "319      0.5        0.00          3.80                1                90   \n",
       "424      0.0        6.70         10.00                1               208   \n",
       "...      ...         ...           ...              ...               ...   \n",
       "22190    0.0        0.00          3.30                1               132   \n",
       "22325    0.0        3.42         20.52                1               163   \n",
       "22383    0.0        0.00         10.30                1                55   \n",
       "22566    0.0        0.00          0.00                1               264   \n",
       "22670    0.5        0.00          3.80                1               132   \n",
       "\n",
       "        trip_duration  trip_minutes  \n",
       "128   0 days 00:00:07          0.12  \n",
       "246   0 days 00:00:10          0.17  \n",
       "291   0 days 00:00:26          0.43  \n",
       "319   0 days 00:00:09          0.15  \n",
       "424   0 days 00:00:27          0.45  \n",
       "...               ...           ...  \n",
       "22190 0 days 00:00:03          0.05  \n",
       "22325 0 days 00:00:43          0.72  \n",
       "22383 0 days 00:02:21          2.35  \n",
       "22566 0 days 00:00:03          0.05  \n",
       "22670 0 days 00:00:19          0.32  \n",
       "\n",
       "[148 rows x 11 columns]"
      ]
     },
     "execution_count": 32,
     "metadata": {},
     "output_type": "execute_result"
    }
   ],
   "source": [
    "# Check which rows have trip distance = to 0.\n",
    "#Visualising this inspection, only 148 rows from the large data frame.\n",
    "\n",
    "(taxi_trips\n",
    " .query('trip_distance == 0')\n",
    " )"
   ]
  },
  {
   "cell_type": "code",
   "execution_count": 33,
   "metadata": {},
   "outputs": [],
   "source": [
    "# Removes those trips with costs associated, but with a trip distance = to 0.\n",
    "# Neat method to drop these rows.\n",
    "\n",
    "taxi_trips_2 = (taxi_trips\n",
    "#  .query('trip_distance == 0')\n",
    " .drop(taxi_trips.query('trip_distance == 0').index)\n",
    " )"
   ]
  },
  {
   "cell_type": "code",
   "execution_count": 34,
   "metadata": {},
   "outputs": [],
   "source": [
    "# Another method to drop the rows but this method lacks readability and elegance.\n",
    "# Unnecessarily complex. Key to keep note of the code we want to produce and what we want to avoid throughout our projects.\n",
    "\n",
    "# taxi_trips_2 = taxi_trips['trip_distance'].loc[~(taxi_trips==0).all(axis=1)]"
   ]
  },
  {
   "cell_type": "code",
   "execution_count": 35,
   "metadata": {},
   "outputs": [
    {
     "data": {
      "text/html": [
       "<div>\n",
       "<style scoped>\n",
       "    .dataframe tbody tr th:only-of-type {\n",
       "        vertical-align: middle;\n",
       "    }\n",
       "\n",
       "    .dataframe tbody tr th {\n",
       "        vertical-align: top;\n",
       "    }\n",
       "\n",
       "    .dataframe thead th {\n",
       "        text-align: right;\n",
       "    }\n",
       "</style>\n",
       "<table border=\"1\" class=\"dataframe\">\n",
       "  <thead>\n",
       "    <tr style=\"text-align: right;\">\n",
       "      <th></th>\n",
       "      <th>trip_distance</th>\n",
       "      <th>pick_up</th>\n",
       "      <th>drop_off</th>\n",
       "      <th>fare_amount</th>\n",
       "      <th>extra</th>\n",
       "      <th>tip_amount</th>\n",
       "      <th>total_amount</th>\n",
       "      <th>passenger_count</th>\n",
       "      <th>pick_up_location</th>\n",
       "      <th>trip_duration</th>\n",
       "      <th>trip_minutes</th>\n",
       "    </tr>\n",
       "  </thead>\n",
       "  <tbody>\n",
       "  </tbody>\n",
       "</table>\n",
       "</div>"
      ],
      "text/plain": [
       "Empty DataFrame\n",
       "Columns: [trip_distance, pick_up, drop_off, fare_amount, extra, tip_amount, total_amount, passenger_count, pick_up_location, trip_duration, trip_minutes]\n",
       "Index: []"
      ]
     },
     "execution_count": 35,
     "metadata": {},
     "output_type": "execute_result"
    }
   ],
   "source": [
    "# Check if trips = to 0 have been removed.\n",
    "\n",
    "(taxi_trips_2\n",
    " .query('trip_distance == 0')\n",
    " )"
   ]
  },
  {
   "cell_type": "markdown",
   "metadata": {
    "id": "5Lx-vikocvoy"
   },
   "source": [
    "#### Scatter plot"
   ]
  },
  {
   "cell_type": "code",
   "execution_count": 36,
   "metadata": {
    "id": "1YC9xCrrcvw-"
   },
   "outputs": [
    {
     "data": {
      "image/png": "[encoded data removed]",
      "text/plain": [
       "<seaborn._core.plot.Plot at 0x27794ddfe80>"
      ]
     },
     "execution_count": 36,
     "metadata": {
      "image/png": {
       "height": 378.25,
       "width": 509.15
      }
     },
     "output_type": "execute_result"
    }
   ],
   "source": [
    "# Visualising a scatter plot gives us a comparison to draw insights from.\n",
    "# Is there any correlation between trip distance and total amount? There seems to be.\n",
    "\n",
    "(so.Plot(data=taxi_trips_2\n",
    "         ,y='trip_distance'\n",
    "         ,x='total_amount'\n",
    "         )\n",
    " .add(so.Dots()\n",
    " ,so.Jitter())\n",
    " )"
   ]
  },
  {
   "cell_type": "code",
   "execution_count": 37,
   "metadata": {},
   "outputs": [
    {
     "data": {
      "text/plain": [
       "0.7671815814347734"
      ]
     },
     "execution_count": 37,
     "metadata": {},
     "output_type": "execute_result"
    }
   ],
   "source": [
    "# We can use the corr function to check for a correlation between variables.\n",
    "# Strong positive correlation between the two variables.\n",
    "\n",
    "taxi_trips.trip_distance.corr(taxi_trips.total_amount)                     # Pearson's r"
   ]
  },
  {
   "cell_type": "code",
   "execution_count": 38,
   "metadata": {},
   "outputs": [
    {
     "data": {
      "text/plain": [
       "array([6, 1, 2, 4, 5, 3, 0], dtype=int64)"
      ]
     },
     "execution_count": 38,
     "metadata": {},
     "output_type": "execute_result"
    }
   ],
   "source": [
    "# Inspect the unique values of passenger counts.\n",
    "\n",
    "(taxi_trips\n",
    " .passenger_count\n",
    " .unique()\n",
    " )"
   ]
  },
  {
   "cell_type": "code",
   "execution_count": 39,
   "metadata": {},
   "outputs": [
    {
     "data": {
      "text/plain": [
       "1    16117\n",
       "2     3305\n",
       "5     1143\n",
       "3      953\n",
       "6      693\n",
       "4      455\n",
       "0       33\n",
       "Name: passenger_count, dtype: int64"
      ]
     },
     "execution_count": 39,
     "metadata": {},
     "output_type": "execute_result"
    }
   ],
   "source": [
    "# Inspect how many passengers per each unique value.\n",
    "# It is revealed overwhelmingly in favour of 1 passenger taxi trips.\n",
    "\n",
    "(taxi_trips\n",
    " .passenger_count\n",
    " .value_counts()\n",
    " )"
   ]
  },
  {
   "cell_type": "markdown",
   "metadata": {},
   "source": [
    "### Sorting tip amount by passenger count."
   ]
  },
  {
   "cell_type": "code",
   "execution_count": 40,
   "metadata": {},
   "outputs": [],
   "source": [
    "# Beginner coding style, not very readable\n",
    "\n",
    "# mean_tips_by_passenger_count = taxi_trips.groupby(['passenger_count']).mean(numeric_only=True)[['tip_amount']]"
   ]
  },
  {
   "cell_type": "code",
   "execution_count": 41,
   "metadata": {},
   "outputs": [],
   "source": [
    "# Elegant coding style, more readable and sophisticated.\n",
    "\n",
    "mean_tips_bypassenger_count = (taxi_trips\n",
    " .groupby(by='passenger_count')\n",
    " .tip_amount\n",
    " .agg(func=['mean'])\n",
    " )"
   ]
  },
  {
   "cell_type": "code",
   "execution_count": 42,
   "metadata": {},
   "outputs": [
    {
     "data": {
      "text/html": [
       "<div>\n",
       "<style scoped>\n",
       "    .dataframe tbody tr th:only-of-type {\n",
       "        vertical-align: middle;\n",
       "    }\n",
       "\n",
       "    .dataframe tbody tr th {\n",
       "        vertical-align: top;\n",
       "    }\n",
       "\n",
       "    .dataframe thead th {\n",
       "        text-align: right;\n",
       "    }\n",
       "</style>\n",
       "<table border=\"1\" class=\"dataframe\">\n",
       "  <thead>\n",
       "    <tr style=\"text-align: right;\">\n",
       "      <th></th>\n",
       "      <th>mean</th>\n",
       "    </tr>\n",
       "    <tr>\n",
       "      <th>passenger_count</th>\n",
       "      <th></th>\n",
       "    </tr>\n",
       "  </thead>\n",
       "  <tbody>\n",
       "    <tr>\n",
       "      <th>4</th>\n",
       "      <td>1.530264</td>\n",
       "    </tr>\n",
       "    <tr>\n",
       "      <th>3</th>\n",
       "      <td>1.716768</td>\n",
       "    </tr>\n",
       "    <tr>\n",
       "      <th>6</th>\n",
       "      <td>1.720260</td>\n",
       "    </tr>\n",
       "    <tr>\n",
       "      <th>1</th>\n",
       "      <td>1.848920</td>\n",
       "    </tr>\n",
       "    <tr>\n",
       "      <th>2</th>\n",
       "      <td>1.856378</td>\n",
       "    </tr>\n",
       "    <tr>\n",
       "      <th>5</th>\n",
       "      <td>1.873185</td>\n",
       "    </tr>\n",
       "    <tr>\n",
       "      <th>0</th>\n",
       "      <td>2.135758</td>\n",
       "    </tr>\n",
       "  </tbody>\n",
       "</table>\n",
       "</div>"
      ],
      "text/plain": [
       "                     mean\n",
       "passenger_count          \n",
       "4                1.530264\n",
       "3                1.716768\n",
       "6                1.720260\n",
       "1                1.848920\n",
       "2                1.856378\n",
       "5                1.873185\n",
       "0                2.135758"
      ]
     },
     "execution_count": 42,
     "metadata": {},
     "output_type": "execute_result"
    }
   ],
   "source": [
    "# Printing the numbers for average tip by passenger count\n",
    "\n",
    "(mean_tips_bypassenger_count\n",
    " .sort_values(by='mean'))"
   ]
  },
  {
   "cell_type": "code",
   "execution_count": 43,
   "metadata": {},
   "outputs": [
    {
     "data": {
      "image/png": "[encoded data removed]",
      "text/plain": [
       "<seaborn._core.plot.Plot at 0x27793c56d10>"
      ]
     },
     "execution_count": 43,
     "metadata": {
      "image/png": {
       "height": 378.25,
       "width": 509.15
      }
     },
     "output_type": "execute_result"
    }
   ],
   "source": [
    "# Visualising this insight. A 0 passenger count is an anaomaly \n",
    "# The biggest tips are left by trips with 5 passengers.\n",
    "# The lowest tips are left by trips with 4 passengers.\n",
    "\n",
    "(so.Plot(data=mean_tips_bypassenger_count\n",
    "         ,y='mean'\n",
    "         ,x='passenger_count'\n",
    "         )\n",
    " .add(so.Bar())\n",
    " )"
   ]
  },
  {
   "cell_type": "code",
   "execution_count": 44,
   "metadata": {},
   "outputs": [
    {
     "data": {
      "text/html": [
       "<div>\n",
       "<style scoped>\n",
       "    .dataframe tbody tr th:only-of-type {\n",
       "        vertical-align: middle;\n",
       "    }\n",
       "\n",
       "    .dataframe tbody tr th {\n",
       "        vertical-align: top;\n",
       "    }\n",
       "\n",
       "    .dataframe thead th {\n",
       "        text-align: right;\n",
       "    }\n",
       "</style>\n",
       "<table border=\"1\" class=\"dataframe\">\n",
       "  <thead>\n",
       "    <tr style=\"text-align: right;\">\n",
       "      <th></th>\n",
       "      <th>mean</th>\n",
       "      <th>min</th>\n",
       "      <th>max</th>\n",
       "    </tr>\n",
       "    <tr>\n",
       "      <th>passenger_count</th>\n",
       "      <th></th>\n",
       "      <th></th>\n",
       "      <th></th>\n",
       "    </tr>\n",
       "  </thead>\n",
       "  <tbody>\n",
       "    <tr>\n",
       "      <th>1</th>\n",
       "      <td>12.793423</td>\n",
       "      <td>-120.00</td>\n",
       "      <td>999.99</td>\n",
       "    </tr>\n",
       "    <tr>\n",
       "      <th>6</th>\n",
       "      <td>12.920635</td>\n",
       "      <td>-2.50</td>\n",
       "      <td>75.50</td>\n",
       "    </tr>\n",
       "    <tr>\n",
       "      <th>5</th>\n",
       "      <td>12.931759</td>\n",
       "      <td>-4.00</td>\n",
       "      <td>67.50</td>\n",
       "    </tr>\n",
       "    <tr>\n",
       "      <th>3</th>\n",
       "      <td>13.486359</td>\n",
       "      <td>2.50</td>\n",
       "      <td>100.00</td>\n",
       "    </tr>\n",
       "    <tr>\n",
       "      <th>4</th>\n",
       "      <td>13.683538</td>\n",
       "      <td>0.01</td>\n",
       "      <td>99.00</td>\n",
       "    </tr>\n",
       "    <tr>\n",
       "      <th>2</th>\n",
       "      <td>13.984614</td>\n",
       "      <td>-3.00</td>\n",
       "      <td>450.00</td>\n",
       "    </tr>\n",
       "    <tr>\n",
       "      <th>0</th>\n",
       "      <td>14.157576</td>\n",
       "      <td>4.00</td>\n",
       "      <td>77.20</td>\n",
       "    </tr>\n",
       "  </tbody>\n",
       "</table>\n",
       "</div>"
      ],
      "text/plain": [
       "                      mean     min     max\n",
       "passenger_count                           \n",
       "1                12.793423 -120.00  999.99\n",
       "6                12.920635   -2.50   75.50\n",
       "5                12.931759   -4.00   67.50\n",
       "3                13.486359    2.50  100.00\n",
       "4                13.683538    0.01   99.00\n",
       "2                13.984614   -3.00  450.00\n",
       "0                14.157576    4.00   77.20"
      ]
     },
     "execution_count": 44,
     "metadata": {},
     "output_type": "execute_result"
    }
   ],
   "source": [
    "# Sorting fare amount by passenger count.\n",
    "# A negative tip is surely an anamoly.Unless the driver is paying the passenger for the ride.\n",
    "\n",
    "(taxi_trips\n",
    " .groupby(by='passenger_count')\n",
    " .fare_amount\n",
    " .agg(func=['mean','min','max'])\n",
    " .sort_values(by='mean')\n",
    " )"
   ]
  },
  {
   "cell_type": "code",
   "execution_count": 45,
   "metadata": {},
   "outputs": [
    {
     "data": {
      "text/html": [
       "<div>\n",
       "<style scoped>\n",
       "    .dataframe tbody tr th:only-of-type {\n",
       "        vertical-align: middle;\n",
       "    }\n",
       "\n",
       "    .dataframe tbody tr th {\n",
       "        vertical-align: top;\n",
       "    }\n",
       "\n",
       "    .dataframe thead th {\n",
       "        text-align: right;\n",
       "    }\n",
       "</style>\n",
       "<table border=\"1\" class=\"dataframe\">\n",
       "  <thead>\n",
       "    <tr style=\"text-align: right;\">\n",
       "      <th></th>\n",
       "      <th>mean</th>\n",
       "      <th>min</th>\n",
       "      <th>max</th>\n",
       "    </tr>\n",
       "    <tr>\n",
       "      <th>pick_up_location</th>\n",
       "      <th></th>\n",
       "      <th></th>\n",
       "      <th></th>\n",
       "    </tr>\n",
       "  </thead>\n",
       "  <tbody>\n",
       "    <tr>\n",
       "      <th>178</th>\n",
       "      <td>2.500000</td>\n",
       "      <td>2.5</td>\n",
       "      <td>2.5</td>\n",
       "    </tr>\n",
       "    <tr>\n",
       "      <th>208</th>\n",
       "      <td>2.500000</td>\n",
       "      <td>2.5</td>\n",
       "      <td>2.5</td>\n",
       "    </tr>\n",
       "    <tr>\n",
       "      <th>168</th>\n",
       "      <td>3.500000</td>\n",
       "      <td>2.5</td>\n",
       "      <td>4.5</td>\n",
       "    </tr>\n",
       "    <tr>\n",
       "      <th>14</th>\n",
       "      <td>3.750000</td>\n",
       "      <td>3.0</td>\n",
       "      <td>4.5</td>\n",
       "    </tr>\n",
       "    <tr>\n",
       "      <th>242</th>\n",
       "      <td>4.000000</td>\n",
       "      <td>4.0</td>\n",
       "      <td>4.0</td>\n",
       "    </tr>\n",
       "    <tr>\n",
       "      <th>...</th>\n",
       "      <td>...</td>\n",
       "      <td>...</td>\n",
       "      <td>...</td>\n",
       "    </tr>\n",
       "    <tr>\n",
       "      <th>258</th>\n",
       "      <td>52.000000</td>\n",
       "      <td>52.0</td>\n",
       "      <td>52.0</td>\n",
       "    </tr>\n",
       "    <tr>\n",
       "      <th>10</th>\n",
       "      <td>52.000000</td>\n",
       "      <td>52.0</td>\n",
       "      <td>52.0</td>\n",
       "    </tr>\n",
       "    <tr>\n",
       "      <th>70</th>\n",
       "      <td>56.890000</td>\n",
       "      <td>6.0</td>\n",
       "      <td>94.2</td>\n",
       "    </tr>\n",
       "    <tr>\n",
       "      <th>1</th>\n",
       "      <td>82.333333</td>\n",
       "      <td>20.0</td>\n",
       "      <td>152.0</td>\n",
       "    </tr>\n",
       "    <tr>\n",
       "      <th>265</th>\n",
       "      <td>96.642857</td>\n",
       "      <td>2.5</td>\n",
       "      <td>450.0</td>\n",
       "    </tr>\n",
       "  </tbody>\n",
       "</table>\n",
       "<p>152 rows × 3 columns</p>\n",
       "</div>"
      ],
      "text/plain": [
       "                       mean   min    max\n",
       "pick_up_location                        \n",
       "178                2.500000   2.5    2.5\n",
       "208                2.500000   2.5    2.5\n",
       "168                3.500000   2.5    4.5\n",
       "14                 3.750000   3.0    4.5\n",
       "242                4.000000   4.0    4.0\n",
       "...                     ...   ...    ...\n",
       "258               52.000000  52.0   52.0\n",
       "10                52.000000  52.0   52.0\n",
       "70                56.890000   6.0   94.2\n",
       "1                 82.333333  20.0  152.0\n",
       "265               96.642857   2.5  450.0\n",
       "\n",
       "[152 rows x 3 columns]"
      ]
     },
     "execution_count": 45,
     "metadata": {},
     "output_type": "execute_result"
    }
   ],
   "source": [
    "# Sorting which pick up locations pay the highest fare.\n",
    "# Pick up location 265 have the largest fare prices so drivers may want to work around this area, to maximise wages.\n",
    "# Pick up location 178 and 208 have very small fare averages. May not be worth working in these areas. Shorter trips possibly.\n",
    "# We could run a scatter graph visual to check if certain pick up locations tend to book shorter trips.\n",
    "\n",
    "fare_amount_by_location = (taxi_trips\n",
    " .groupby(by='pick_up_location')\n",
    " .fare_amount\n",
    " .agg(func=['mean','min','max'])\n",
    " .sort_values(by='mean')\n",
    " )\n",
    "\n",
    "fare_amount_by_location"
   ]
  },
  {
   "cell_type": "code",
   "execution_count": 46,
   "metadata": {},
   "outputs": [
    {
     "data": {
      "text/html": [
       "<div>\n",
       "<style scoped>\n",
       "    .dataframe tbody tr th:only-of-type {\n",
       "        vertical-align: middle;\n",
       "    }\n",
       "\n",
       "    .dataframe tbody tr th {\n",
       "        vertical-align: top;\n",
       "    }\n",
       "\n",
       "    .dataframe thead th {\n",
       "        text-align: right;\n",
       "    }\n",
       "</style>\n",
       "<table border=\"1\" class=\"dataframe\">\n",
       "  <thead>\n",
       "    <tr style=\"text-align: right;\">\n",
       "      <th></th>\n",
       "      <th>mean</th>\n",
       "    </tr>\n",
       "    <tr>\n",
       "      <th>pick_up_location</th>\n",
       "      <th></th>\n",
       "    </tr>\n",
       "  </thead>\n",
       "  <tbody>\n",
       "    <tr>\n",
       "      <th>258</th>\n",
       "      <td>12.880000</td>\n",
       "    </tr>\n",
       "    <tr>\n",
       "      <th>216</th>\n",
       "      <td>11.700000</td>\n",
       "    </tr>\n",
       "    <tr>\n",
       "      <th>265</th>\n",
       "      <td>8.599286</td>\n",
       "    </tr>\n",
       "    <tr>\n",
       "      <th>130</th>\n",
       "      <td>7.830000</td>\n",
       "    </tr>\n",
       "    <tr>\n",
       "      <th>135</th>\n",
       "      <td>6.760000</td>\n",
       "    </tr>\n",
       "    <tr>\n",
       "      <th>...</th>\n",
       "      <td>...</td>\n",
       "    </tr>\n",
       "    <tr>\n",
       "      <th>69</th>\n",
       "      <td>0.000000</td>\n",
       "    </tr>\n",
       "    <tr>\n",
       "      <th>63</th>\n",
       "      <td>0.000000</td>\n",
       "    </tr>\n",
       "    <tr>\n",
       "      <th>178</th>\n",
       "      <td>0.000000</td>\n",
       "    </tr>\n",
       "    <tr>\n",
       "      <th>56</th>\n",
       "      <td>0.000000</td>\n",
       "    </tr>\n",
       "    <tr>\n",
       "      <th>228</th>\n",
       "      <td>0.000000</td>\n",
       "    </tr>\n",
       "  </tbody>\n",
       "</table>\n",
       "<p>152 rows × 1 columns</p>\n",
       "</div>"
      ],
      "text/plain": [
       "                       mean\n",
       "pick_up_location           \n",
       "258               12.880000\n",
       "216               11.700000\n",
       "265                8.599286\n",
       "130                7.830000\n",
       "135                6.760000\n",
       "...                     ...\n",
       "69                 0.000000\n",
       "63                 0.000000\n",
       "178                0.000000\n",
       "56                 0.000000\n",
       "228                0.000000\n",
       "\n",
       "[152 rows x 1 columns]"
      ]
     },
     "execution_count": 46,
     "metadata": {},
     "output_type": "execute_result"
    }
   ],
   "source": [
    "# Sorting which pick up locations pay the highest tips.\n",
    "# Pick up location 258 gives the largest tips so drivers may want to work around this area. 216 is also relatively high.\n",
    "# Multiple pick up locations have mean tips of 0. May not be worth working in these areas if you want to make tips.\n",
    "\n",
    "tip_amount_by_location = (taxi_trips\n",
    " .groupby(by='pick_up_location')\n",
    " .tip_amount\n",
    " .agg(func=['mean'])\n",
    " .sort_values(by='mean', ascending = False)\n",
    " )\n",
    "\n",
    "tip_amount_by_location"
   ]
  },
  {
   "cell_type": "code",
   "execution_count": 47,
   "metadata": {},
   "outputs": [
    {
     "data": {
      "image/png": "[encoded data removed]",
      "text/plain": [
       "<seaborn._core.plot.Plot at 0x27794ddd210>"
      ]
     },
     "execution_count": 47,
     "metadata": {
      "image/png": {
       "height": 378.25,
       "width": 509.15
      }
     },
     "output_type": "execute_result"
    }
   ],
   "source": [
    "# Visualisation shows the pick up locations in the higher numbers tend to pay greater. Drivers may want to target these areas.\n",
    "\n",
    "(so.Plot(data=fare_amount_by_location\n",
    "         ,x='pick_up_location'\n",
    "         ,y='mean'\n",
    "         )\n",
    " .add(so.Bar())\n",
    " )"
   ]
  },
  {
   "cell_type": "code",
   "execution_count": 48,
   "metadata": {},
   "outputs": [
    {
     "data": {
      "text/plain": [
       "-0.051473918147296134"
      ]
     },
     "execution_count": 48,
     "metadata": {},
     "output_type": "execute_result"
    }
   ],
   "source": [
    "taxi_trips.fare_amount.corr(taxi_trips.pick_up_location)                     # Pearson's r"
   ]
  },
  {
   "cell_type": "code",
   "execution_count": 49,
   "metadata": {},
   "outputs": [
    {
     "data": {
      "image/png": "[encoded data removed]",
      "text/plain": [
       "<seaborn._core.plot.Plot at 0x27794dab430>"
      ]
     },
     "execution_count": 49,
     "metadata": {
      "image/png": {
       "height": 378.25,
       "width": 509.15
      }
     },
     "output_type": "execute_result"
    }
   ],
   "source": [
    "# Visualisation shows the pick up locations in the higher numbers tend to tip greater. Drivers may want to target these areas.\n",
    "\n",
    "(so.Plot(data=tip_amount_by_location\n",
    "         ,x='pick_up_location'\n",
    "         ,y='mean'\n",
    "         )\n",
    " .add(so.Bar())\n",
    " )"
   ]
  },
  {
   "cell_type": "code",
   "execution_count": 50,
   "metadata": {},
   "outputs": [],
   "source": [
    "# taxi_trips.tip_amount.corr(taxi_trips.pick_up_location)                     # Pearson's r"
   ]
  },
  {
   "cell_type": "code",
   "execution_count": 51,
   "metadata": {},
   "outputs": [
    {
     "data": {
      "image/png": "[encoded data removed]",
      "text/plain": [
       "<seaborn._core.plot.Plot at 0x27793fb6aa0>"
      ]
     },
     "execution_count": 51,
     "metadata": {
      "image/png": {
       "height": 378.25,
       "width": 509.15
      }
     },
     "output_type": "execute_result"
    }
   ],
   "source": [
    "# We decided to the scatter graph visual to check if certain pick up locations tend to book shorter trips.\n",
    "# Earlier EDA analysis shows this may prove useful.\n",
    "# The insights aren't clear from the visual but we can check the correlation coefficient.\n",
    "\n",
    "\n",
    "(so.Plot(data=taxi_trips\n",
    "         ,y='trip_distance'\n",
    "         ,x='pick_up_location'\n",
    "         )\n",
    " .add(so.Bar())\n",
    " )"
   ]
  },
  {
   "cell_type": "code",
   "execution_count": 52,
   "metadata": {},
   "outputs": [
    {
     "data": {
      "text/plain": [
       "-0.0807372200896256"
      ]
     },
     "execution_count": 52,
     "metadata": {},
     "output_type": "execute_result"
    }
   ],
   "source": [
    "# The insights aren't clear from the visual but we can check the correlation coefficient.\n",
    "# We discover there is no correlation. This shows there is most likely a different reason \n",
    "# as to why particular pick up locations provide higher fares and greater tips.\n",
    "# Further EDA between variables may reveal this insight but we will stop here for now as we have drawn some \n",
    "# Great insights for the TLC.\n",
    "\n",
    "taxi_trips.trip_distance.corr(taxi_trips.pick_up_location)                     # Pearson's r"
   ]
  },
  {
   "cell_type": "markdown",
   "metadata": {
    "id": "NsvBtco1x8GN"
   },
   "source": [
    "## PACE: Execute \n",
    "\n",
    "Consider the questions in your PACE Strategy Document to reflect on the Execute stage."
   ]
  },
  {
   "cell_type": "markdown",
   "metadata": {
    "id": "csHAfM-RSO7l"
   },
   "source": [
    "### Task 4a. Results and evaluation\n",
    "\n",
    "Having built visualizations in Tableau and in Python, what have you learned about the dataset? What other questions have your visualizations uncovered that you should pursue? \n",
    "\n",
    "***Pro tip:*** Put yourself in your client's perspective, what would they want to know? \n",
    " \n",
    "\n",
    "***Ask yourself:*** Did you consider color, contrast, emphasis, and labeling?\n"
   ]
  },
  {
   "cell_type": "markdown",
   "metadata": {
    "id": "pOp0vmf1zOHO"
   },
   "source": [
    "I have learned that lower trip distances are far more frequent, lower passenger counts are more common in particular 1 passenger journeys are the most common by far. The vast majority of trip joureys are between 0 and 20 minutes. Passengers rarely pay more than £200 for a taxi trip. The biggest tips are left by trips with 5 passengers.0 Passengers seemed to be an outlier we omitted.\n",
    "The lowest tips are left by trips with 4 passengers.\n",
    "\n",
    "Pick up location 265 have the largest fare prices so drivers may want to work around this area, to maximise wages.\n",
    "Pick up location 178 and 208 have very small fare averages. May not be worth working in these areas. Shorter trips possibly.\n",
    "We could run a scatter graph visual to check if certain pick up locations tend to book shorter trips.\n",
    "\n",
    "Pick up location 258 gives the largest tips so drivers may want to work around this area. 216 is also relatively high.\n",
    "Multiple pick up locations have mean tips of 0. May not be worth working in these areas if you want to make tips.\n",
    "\n",
    "Visualisation shows the pick up locations in the higher numbers (200s) tend to tip greater. Drivers may want to target these areas.\n",
    "\n",
    "The insights aren't clear from the visual but we can check the correlation coefficient. We discover there is no correlation. This shows there is most likely a different reason  as to why particular pick up locations provide higher fares and greater tips.\n",
    "\n",
    "My other questions are and my client would likely want to know. The reason as to why particular pick up locations provide higher fares and greater tips. Trip duration as we discovered during EDA, is not the factor for this as we first hypothesised. Further EDA between variables may reveal this insight to the answer.\n",
    "\n",
    "To improve my analysis next time, I need to make my visuals more appealing, we done a good job of making the insights and stories clear to see, but we did not consider color, contrast, emphasis and labelling enough. This was more due to time constraints but nevertheless, these are important considerations to present to non technical audiences and stakeholders. "
   ]
  },
  {
   "cell_type": "markdown",
   "metadata": {
    "id": "U4HeITeOwXfo"
   },
   "source": [
    "### Task 4b. Conclusion\n",
    "*Make it professional and presentable*\n",
    "\n",
    "You have visualized the data you need to share with the director now. Remember, the goal of a data visualization is for an audience member to glean the information on the chart in mere seconds.\n",
    "\n",
    "*Questions to ask yourself for reflection:*\n",
    "Why is it important to conduct Exploratory Data Analysis? Why would we need to create a visual map of the NYC Taxi rides? Why would this be useful?\n"
   ]
  },
  {
   "cell_type": "markdown",
   "metadata": {
    "id": "5o3dV6NYzNSs"
   },
   "source": [
    "EDA is important because it allows us to understand the inherent structure and pattern of a dataset. We can use the insights we draw from a dataset to reveal insights that are unclear or hidden in the data. This allows us data analysts to provide stakeholders and clients with information that allows them to make more informed business decisions.\n",
    "\n",
    "\n",
    "Visualizations helped me understand that metrics are not always enough. A picture paints a 1000 words and visualisation made some insights clear which I could not see prior to this. They also make insights far more apparent to me and stakeholders. They allow us to curate compelling stories around the data and emphasise any discoveries. \n",
    "\n",
    "Visuals are always vitally important for our story telling ability on what we have cleaned. The audience needs to understand with as little complexity as possible. "
   ]
  },
  {
   "cell_type": "markdown",
   "metadata": {
    "id": "8JabFSqwwLrM"
   },
   "source": [
    "You’ve now completed a professional data visualization according to a business need. Well done! Be sure to save your work as a reference for later work in Tableau. "
   ]
  }
 ],
 "metadata": {
  "colab": {
   "collapsed_sections": [],
   "provenance": []
  },
  "kernelspec": {
   "display_name": "Python 3 (ipykernel)",
   "language": "python",
   "name": "python3"
  },
  "language_info": {
   "codemirror_mode": {
    "name": "ipython",
    "version": 3
   },
   "file_extension": ".py",
   "mimetype": "text/x-python",
   "name": "python",
   "nbconvert_exporter": "python",
   "pygments_lexer": "ipython3",
   "version": "3.10.9"
  }
 },
 "nbformat": 4,
 "nbformat_minor": 1
}
